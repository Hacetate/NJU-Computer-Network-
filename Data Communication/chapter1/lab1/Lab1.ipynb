{
 "cells": [
  {
   "cell_type": "code",
   "execution_count": 1,
   "metadata": {},
   "outputs": [
    {
     "name": "stdout",
     "output_type": "stream",
     "text": [
      "Ready to serve...\n",
      "Ready to serve...\n",
      "Ready to serve...\n",
      "Ready to serve...\n",
      "Ready to serve...\n"
     ]
    }
   ],
   "source": [
    "#import socket module\n",
    "from socket import *\n",
    "import sys # In order to terminate the program\n",
    "serverSocket = socket(AF_INET, SOCK_STREAM)\n",
    "#Prepare a sever socket\n",
    "#Fill in start\n",
    "serverPort = 12000\n",
    "serverSocket.bind(('',serverPort))\n",
    "serverSocket.listen(1)\n",
    "#Fill in end\n",
    "while True:\n",
    "    #Establish the connection\n",
    "    print('Ready to serve...')\n",
    "    connectionSocket, addr =  serverSocket.accept()   \n",
    "    try:\n",
    "        message = connectionSocket.recv(1024)#debug\n",
    "        filename = message.split()[1] \n",
    "        f = open(filename[1:]) \n",
    "        outputdata = f.readlines()\n",
    "        #Send one HTTP header line into socket\n",
    "        #Fill in start\n",
    "        connectionSocket.send(\"HTTP/1.1 200 OK\\r\\n\".encode())\n",
    "        connectionSocket.send(\"Connection: close\\r\\n\".encode())\n",
    "        connectionSocket.send(\"\\r\\n\".encode())\n",
    "        #Fill in end \n",
    "        #Send the content of the requested file to the client\n",
    "        for i in range(0, len(outputdata)): \n",
    "            connectionSocket.send(outputdata[i].encode())\n",
    "        connectionSocket.send(\"\\r\\n\".encode())\n",
    "            \n",
    "        connectionSocket.close()\n",
    "    except IOError:\n",
    "    #Send response message for file not found\n",
    "    #Fill in start \n",
    "        connectionSocket.send(\"HTTP/1.1 404 Not Found\\r\\n\".encode())\n",
    "        connectionSocket.send(\"Connection: close\\r\\n\".encode())\n",
    "        connectionSocket.send(\"\\r\\n\".encode())\n",
    "        connectionSocket.send(\"404 Not found Cant find such file \".encode())\n",
    "        connectionSocket.send(\"{0:}\".format(filename).encode())\n",
    "\n",
    "    #Fill in end\n",
    "    #Close client socket\n",
    "    #Fill in start\n",
    "\n",
    "\n",
    "    #Fill in end \n",
    "serverSocket.close()\n",
    "sys.exit()#Terminate the program after sending the corresponding data"
   ]
  },
  {
   "cell_type": "code",
   "execution_count": null,
   "metadata": {},
   "outputs": [],
   "source": []
  },
  {
   "cell_type": "code",
   "execution_count": 1,
   "metadata": {},
   "outputs": [],
   "source": [
    "from socket import *\n",
    "serverPort = 12000\n",
    "serverSocket = socket(AF_INET, SOCK_DGRAM)\n",
    "serverSocket.bind(('', serverPort))\n",
    "while True: \n",
    "    message,addr = serverSocket.recvfrom(2048)\n",
    "    modifymess = message.decode().upper() +' 123'\n",
    "    serverSocket.sendto(modifymess.encode(), addr)"
   ]
  },
  {
   "cell_type": "code",
   "execution_count": 1,
   "metadata": {},
   "outputs": [
    {
     "data": {
      "text/plain": [
       "'Ip address of www.oschina.net is 212.64.62.183'"
      ]
     },
     "execution_count": 1,
     "metadata": {},
     "output_type": "execute_result"
    }
   ],
   "source": [
    "import socket   #for sockets\n",
    "import sys  #for exit\n",
    "\n",
    "try:\n",
    "    #create an AF_INET, STREAM socket (TCP)\n",
    "    s = socket.socket(socket.AF_INET, socket.SOCK_STREAM)\n",
    "except (socket.error, msg):\n",
    "    print \n",
    "    'Failed to create socket. Error code: ' + str(msg[0]) + ' , Error message : ' + msg[1]\n",
    "    sys.exit();\n",
    "\n",
    "print \n",
    "'Socket Created'\n",
    "\n",
    "host = 'www.oschina.net'\n",
    "\n",
    "try:\n",
    "    remote_ip = socket.gethostbyname( host )\n",
    "\n",
    "except socket.gaierror:\n",
    "    #could not resolve\n",
    "    print \n",
    "    'Hostname could not be resolved. Exiting'\n",
    "    sys.exit()\n",
    "\n",
    "print \n",
    "'Ip address of ' + host + ' is ' + remote_ip"
   ]
  },
  {
   "cell_type": "code",
   "execution_count": 2,
   "metadata": {},
   "outputs": [],
   "source": [
    "#import socket module\n",
    "from socket import *\n",
    "import sys # In order to terminate the program\n",
    "serverSocket = socket(AF_INET, SOCK_STREAM)\n",
    "#Prepare a sever socket\n",
    "#Fill in start\n",
    "serverPort = 12000\n",
    "serverSocket.bind(('',serverPort))\n",
    "serverSocket.listen(1)\n",
    "\n"
   ]
  },
  {
   "cell_type": "code",
   "execution_count": 4,
   "metadata": {},
   "outputs": [
    {
     "ename": "IndentationError",
     "evalue": "expected an indented block (<ipython-input-4-e9b81b5b011c>, line 36)",
     "output_type": "error",
     "traceback": [
      "\u001b[1;36m  File \u001b[1;32m\"<ipython-input-4-e9b81b5b011c>\"\u001b[1;36m, line \u001b[1;32m36\u001b[0m\n\u001b[1;33m    serverSocket.close()\u001b[0m\n\u001b[1;37m                        ^\u001b[0m\n\u001b[1;31mIndentationError\u001b[0m\u001b[1;31m:\u001b[0m expected an indented block\n"
     ]
    }
   ],
   "source": [
    "#Fill in end\n",
    "while True:\n",
    "    #Establish the connection\n",
    "    print('Ready to serve...')\n",
    "    connectionSocket, addr =  serverSocket.accept()   \n",
    "    try:\n",
    "        message = connectionSocket.recv() #debug\n",
    "        filename = message.split()[1] \n",
    "        f = open(filename[1:]) \n",
    "        #outputdata = \n",
    "        #Fill in start #Fill in end \n",
    "\n",
    "\n",
    "        #Send one HTTP header line into socket\n",
    "        #Fill in start\n",
    "\n",
    "\n",
    "        #Fill in end \n",
    "        #Send the content of the requested file to the client\n",
    "        for i in range(0, len(outputdata)): \n",
    "            connectionSocket.send(outputdata[i].encode())\n",
    "            connectionSocket.send(\"\\r\\n\".encode())\n",
    "            \n",
    "            connectionSocket.close()\n",
    "    except IOError:\n",
    "    #Send response message for file not found\n",
    "    #Fill in start \n",
    "\n",
    "\n",
    "    #Fill in end\n",
    "    #Close client socket\n",
    "    #Fill in start\n",
    "\n",
    "\n",
    "    #Fill in end \n",
    "serverSocket.close()\n",
    "sys.exit()#Terminate the program after sending the corresponding data"
   ]
  },
  {
   "cell_type": "code",
   "execution_count": null,
   "metadata": {},
   "outputs": [],
   "source": []
  }
 ],
 "metadata": {
  "interpreter": {
   "hash": "dc8ee73e59777c6ca3856bd68c8594348ea4cd08fdede959aefd9260312443b7"
  },
  "kernelspec": {
   "display_name": "Python 3.8.8 ('base')",
   "language": "python",
   "name": "python3"
  },
  "language_info": {
   "codemirror_mode": {
    "name": "ipython",
    "version": 3
   },
   "file_extension": ".py",
   "mimetype": "text/x-python",
   "name": "python",
   "nbconvert_exporter": "python",
   "pygments_lexer": "ipython3",
   "version": "3.8.8"
  },
  "orig_nbformat": 4
 },
 "nbformat": 4,
 "nbformat_minor": 2
}
